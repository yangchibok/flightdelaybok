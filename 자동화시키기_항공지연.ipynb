{
 "cells": [
  {
   "cell_type": "code",
   "execution_count": 2,
   "metadata": {
    "collapsed": false
   },
   "outputs": [
    {
     "name": "stdout",
     "output_type": "stream",
     "text": [
      "C:\\Users\\chibok\n"
     ]
    }
   ],
   "source": [
    "%cd .."
   ]
  },
  {
   "cell_type": "code",
   "execution_count": 3,
   "metadata": {
    "collapsed": true
   },
   "outputs": [],
   "source": [
    "import pandas as pd\n",
    "import numpy as np\n",
    "\n",
    "import matplotlib.pyplot as plt # module for plotting\n",
    "import seaborn as sns\n",
    "import sklearn as sklearn\n",
    "from sklearn import linear_model, cross_validation, metrics, svm, ensemble\n",
    "from sklearn.linear_model import LogisticRegression\n",
    "from sklearn.svm import SVC\n",
    "from sklearn.metrics import classification_report, confusion_matrix, precision_recall_fscore_support, accuracy_score\n",
    "from sklearn.cross_validation  import train_test_split, cross_val_score, ShuffleSplit\n",
    "from sklearn.ensemble import RandomForestClassifier\n",
    "from sklearn.preprocessing import StandardScaler, OneHotEncoder, LabelEncoder\n",
    "from scipy.stats import sem\n",
    "import statsmodels.api as sm\n",
    "import itertools\n",
    "from sklearn.naive_bayes import MultinomialNB\n",
    "from sklearn.naive_bayes import GaussianNB\n",
    "from sklearn.ensemble import VotingClassifier\n",
    "\n",
    "import matplotlib.pyplot as plt # module for plotting \n",
    "from matplotlib import interactive, font_manager\n",
    "from matplotlib import rcParams\n",
    "import matplotlib.cm as cm\n",
    "import matplotlib as mpl\n",
    "from matplotlib.colors import ListedColormap\n",
    "dark2_colors = [(0.10588235294117647, 0.6196078431372549, 0.4666666666666667),\n",
    "                (0.8509803921568627, 0.37254901960784315, 0.00784313725490196),\n",
    "                (0.4588235294117647, 0.4392156862745098, 0.7019607843137254),\n",
    "                (0.9058823529411765, 0.1607843137254902, 0.5411764705882353),\n",
    "                (0.4, 0.6509803921568628, 0.11764705882352941),\n",
    "                (0.9019607843137255, 0.6705882352941176, 0.00784313725490196),\n",
    "                (0.6509803921568628, 0.4627450980392157, 0.11372549019607843),\n",
    "                (0.10588235294117647, 0.6196078431372549, 0.4666666666666667),\n",
    "                (0.8509803921568627, 0.37254901960784315, 0.00784313725490196),\n",
    "                (0.4588235294117647, 0.4392156862745098, 0.7019607843137254),\n",
    "                (0.9058823529411765, 0.1607843137254902, 0.5411764705882353),\n",
    "                (0.4, 0.6509803921568628, 0.11764705882352941),\n",
    "                (0.9019607843137255, 0.6705882352941176, 0.00784313725490196),\n",
    "                (0.6509803921568628, 0.4627450980392157, 0.11372549019607843)]\n",
    "\n",
    "cmap_set1 = ListedColormap(['#4daf4a', '#377eb8', '#e41a1c' ])\n",
    "dark2_cmap=ListedColormap(dark2_colors)"
   ]
  },
  {
   "cell_type": "code",
   "execution_count": 4,
   "metadata": {
    "collapsed": false
   },
   "outputs": [],
   "source": [
    "######################################\n",
    "######################################\n",
    "# Matplotlib config code taken from CS109 2013 \n",
    "######################################\n",
    "def set_mpl_params():\n",
    "    rcParams['figure.figsize'] = (10, 6)\n",
    "    rcParams['figure.dpi'] = 150\n",
    "    rcParams['axes.color_cycle'] = dark2_colors\n",
    "    rcParams['lines.linewidth'] = 2\n",
    "    rcParams['axes.facecolor'] = 'white'\n",
    "    rcParams['font.size'] = 14\n",
    "    rcParams['patch.edgecolor'] = 'white'\n",
    "    rcParams['patch.facecolor'] = dark2_colors[0]\n",
    "    rcParams['font.family'] = 'StixGeneral'\n",
    "\n",
    "set_mpl_params()\n",
    "\n",
    "######################################\n",
    "######################################\n",
    "# Remove border function taken from CS109 2013 \n",
    "######################################\n",
    "def remove_border(axes=None, top=False, right=False, left=True, bottom=True):\n",
    "    \"\"\"\n",
    "    Minimize chartjunk by stripping out unnecessary plot borders and axis ticks\n",
    "    \n",
    "    The top/right/left/bottom keywords toggle whether the corresponding plot border is drawn\n",
    "    \"\"\"\n",
    "    ax = axes or plt.gca()\n",
    "    ax.spines['top'].set_visible(top)\n",
    "    ax.spines['right'].set_visible(right)\n",
    "    ax.spines['left'].set_visible(left)\n",
    "    ax.spines['bottom'].set_visible(bottom)\n",
    "    \n",
    "    #turn off all ticks\n",
    "    ax.yaxis.set_ticks_position('none')\n",
    "    ax.xaxis.set_ticks_position('none')\n",
    "    \n",
    "    #now re-enable visibles\n",
    "    if top:\n",
    "        ax.xaxis.tick_top()\n",
    "    if bottom:\n",
    "        ax.xaxis.tick_bottom()\n",
    "    if left:\n",
    "        ax.yaxis.tick_left()\n",
    "    if right:\n",
    "        ax.yaxis.tick_right()\n",
    "        \n",
    "pd.set_option('display.width', 500)\n",
    "pd.set_option('display.max_columns', 100)"
   ]
  },
  {
   "cell_type": "code",
   "execution_count": 5,
   "metadata": {
    "collapsed": true
   },
   "outputs": [],
   "source": [
    "# plot confustion matrix function taken from class notes\n",
    "def show_confusion_matrix(cm):\n",
    "    plt.figure(figsize=(6, 6))\n",
    "    plt.imshow(cm, interpolation='nearest', cmap=plt.cm.binary)\n",
    "    plt.title('Confusion matrix')\n",
    "    plt.set_cmap('Blues')\n",
    "    plt.colorbar()\n",
    "\n",
    "    target_names = ['Not Delayed', 'Delayed']\n",
    "\n",
    "    tick_marks = np.arange(len(target_names))\n",
    "    plt.xticks(tick_marks, target_names, rotation=60)\n",
    "    plt.yticks(tick_marks, target_names)\n",
    "    plt.ylabel('True label')\n",
    "    plt.xlabel('Predicted label')\n",
    "    # Convenience function to adjust plot parameters for a clear layout.\n",
    "    plt.show()"
   ]
  },
  {
   "cell_type": "markdown",
   "metadata": {},
   "source": [
    "# 추가 되는 자료 전처리하기"
   ]
  },
  {
   "cell_type": "code",
   "execution_count": 6,
   "metadata": {
    "collapsed": false
   },
   "outputs": [],
   "source": [
    "def predict_X( wind =0, wind2 = 8, dist = 1000 , temp = 10, rain = 0 , the_number_of_delay = 2, company= u'대한항공', month = 3, day = 10, hour = u\"8\", weekday = 5):\n",
    "    df_data = pd.read_csv('df_data.csv', encoding = 'cp949')\n",
    "    df_raw_X = pd.DataFrame(df_data, columns=[\"wind\", \"wind2\",\"dist\",\"temp\", \"rain\", \"the number of delay\", \"company\", u\"month\", u\"day\", u\"hour\", \"weekday\"])\n",
    "    raw_X=df_raw_X.values\n",
    "    predict_values = [0, 8, 1000, 10, 0, 2, u'대한항공', 2, 13, u'8H', 5]\n",
    "    raw_X = np.vstack((raw_X, predict_values))\n",
    "    \n",
    "    df_X = pd.DataFrame(raw_X, columns=[\"wind\", \"wind2\",\"dist\",\"temp\", \"rain\", \"the number of delay\", \"company\", u\"month\", u\"day\", u\"hour\", \"weekday\"])\n",
    "    df_X.to_csv(\"predict_X.csv\", encoding= 'cp949')\n",
    "    \n",
    "    \n",
    "    df_X = pd.read_csv('predict_X.csv', encoding='cp949')\n",
    "    \n",
    "    df_X = pd.DataFrame(df_X, columns=[\"wind\", \"wind2\",\"dist\",\"temp\", \"rain\", \"the number of delay\", \"company\", u\"month\", u\"day\", u\"hour\", \"weekday\"])\n",
    "    \n",
    "    df_X.loc[:,u\"company\"] = LabelEncoder().fit_transform(df_X[u\"company\"])\n",
    "    dfX2 = pd.DataFrame(OneHotEncoder().fit_transform(df_X[u\"company\"].as_matrix()[:,np.newaxis]).toarray(), \n",
    "                    columns=[\"koreanair\",\"asianair\",\"busanair\",\"estarair\",\"jejuair\",\"jinair\",\"taway\"], index=df_X.index)\n",
    "    df_X = pd.concat([df_X, dfX2], axis=1)\n",
    "    del(df_X[u\"company\"])\n",
    "    \n",
    "    df_X.loc[:,u\"month\"] = LabelEncoder().fit_transform(df_X[u\"month\"])\n",
    "    dfX6 = pd.DataFrame(OneHotEncoder().fit_transform(df_X[u\"month\"].as_matrix()[:,np.newaxis]).toarray(), \n",
    "                        columns=[1, 2, 3, 4, 5, 6, 7, 8, 9, 10, 11, 12], index=df_X.index)\n",
    "    df_X = pd.concat([df_X, dfX6], axis=1)\n",
    "    del(df_X[u\"month\"])\n",
    "    \n",
    "    dfX4 = pd.DataFrame(OneHotEncoder().fit_transform(df_X[u\"day\"].as_matrix()[:,np.newaxis]).toarray(), \n",
    "                        columns=[\"day1\",\"day2\",\"day3\",\"day4\",\"day5\",\"day6\",\"day7\",\"day8\",\"day9\",\"day10\",\"day11\",\"day12\",\"day13\",\"day14\",\"day15\",\"day16\",\"day17\",\"day18\",\"day19\",\"day20\",\"day21\",\"day22\",\"day23\",\"day24\",\"day25\",\"day26\",\"day27\",\"day28\",\"day29\",\"day30\",\"day31\"], index=df_X.index)\n",
    "    df_X = pd.concat([df_X, dfX4], axis=1)\n",
    "    del(df_X[u\"day\"])\n",
    "    \n",
    "    df_X.loc[:,\"hour\"] = LabelEncoder().fit_transform(df_X[\"hour\"])\n",
    "    dfX3 = pd.DataFrame(OneHotEncoder().fit_transform(df_X[\"hour\"].as_matrix()[:,np.newaxis]).toarray(), \n",
    "                        columns=[\"0H\", \"1H\", \"4H\", \"5H\", \"6H\", \"7H\", \"8H\", \"9H\", \"10H\", \"11H\", \"12H\", \"13H\", \"14H\", \"15H\", \"16H\", \"17H\", \"18H\", \"19H\", \"20H\", \"21H\", \"22H\", \"23H\"], index=df_X.index)\n",
    "    df_X = pd.concat([df_X, dfX3], axis=1)\n",
    "    \n",
    "    del(df_X[u\"hour\"])\n",
    "    \n",
    "    \n",
    "    \n",
    "    dfX5 = pd.DataFrame(OneHotEncoder().fit_transform(df_X[u\"weekday\"].as_matrix()[:,np.newaxis]).toarray(), \n",
    "                    columns=[\"sun\",\"mon\",\"tue\",\"wen\",\"thus\",\"fri\", \"sat\"], index=df_X.index)\n",
    "    df_X = pd.concat([df_X, dfX5], axis=1)\n",
    "    del(df_X[u\"weekday\"])\n",
    "    predict_X=df_X.values\n",
    "    predict_X[-1]\n",
    "    return predict_X[-1]"
   ]
  },
  {
   "cell_type": "code",
   "execution_count": 7,
   "metadata": {
    "collapsed": false
   },
   "outputs": [],
   "source": [
    " predictX =predict_X(0, 8, 1000, 10, 0, 2, u'대한항공', 3, 13, u'8H', 5)"
   ]
  },
  {
   "cell_type": "markdown",
   "metadata": {},
   "source": [
    "# 알고리즘 training시키기(기존 자료로)"
   ]
  },
  {
   "cell_type": "code",
   "execution_count": 13,
   "metadata": {
    "collapsed": false
   },
   "outputs": [],
   "source": [
    "def training():\n",
    "    df_raw_data_def = pd.read_csv(\"df_data.csv\", encoding = 'cp949')\n",
    "    df_X = pd.DataFrame(df_raw_data_def, columns=[\"wind\", \"wind2\",\"dist\",\"temp\", \"rain\", \"the number of delay\", \"company\", \"month\", \"day\", \"hour\", \"weekday\"])\n",
    "    df_y = pd.DataFrame(df_raw_data_def, columns=[\"status\"])\n",
    "    df_X.loc[:,u\"company\"] = LabelEncoder().fit_transform(df_X[u\"company\"])\n",
    "    dfX2 = pd.DataFrame(OneHotEncoder().fit_transform(df_X[u\"company\"].as_matrix()[:,np.newaxis]).toarray(), \n",
    "                    columns=[\"koreanair\",\"asianair\",\"busanair\",\"estarair\",\"jejuair\",\"jinair\",\"taway\"], index=df_X.index)\n",
    "    df_X = pd.concat([df_X, dfX2], axis=1)\n",
    "    del(df_X[u\"company\"])\n",
    "    \n",
    "    df_X.loc[:,u\"month\"] = LabelEncoder().fit_transform(df_X[u\"month\"])\n",
    "    dfX6 = pd.DataFrame(OneHotEncoder().fit_transform(df_X[u\"month\"].as_matrix()[:,np.newaxis]).toarray(), \n",
    "                        columns=[1,2,3,4,5,6,7,8,9,10,11,12], index=df_X.index)\n",
    "    df_X = pd.concat([df_X, dfX6], axis=1)\n",
    "    del(df_X[u\"month\"])\n",
    "    \n",
    "    df_X.loc[:,\"hour\"] = LabelEncoder().fit_transform(df_X[\"hour\"])\n",
    "    dfX3 = pd.DataFrame(OneHotEncoder().fit_transform(df_X[\"hour\"].as_matrix()[:,np.newaxis]).toarray(), \n",
    "                    columns=[\"0H\", \"1H\",\"4H\", \"5H\", \"6H\", \"7H\", \"8H\", \"9H\", \"10H\", \"11H\", \"12H\", \"13H\", \"14H\", \"15H\", \"16H\", \"17H\", \"18H\", \"19H\", \"20H\", \"21H\", \"22H\", \"23H\"], index=df_X.index)\n",
    "    df_X = pd.concat([df_X, dfX3], axis=1)\n",
    "    del(df_X[\"hour\"])\n",
    "    \n",
    "    dfX4 = pd.DataFrame(OneHotEncoder().fit_transform(df_X[u\"day\"].as_matrix()[:,np.newaxis]).toarray(), \n",
    "                    columns=[\"day1\",\"day2\",\"day3\",\"day4\",\"day5\",\"day6\",\"day7\",\"day8\",\"day9\",\"day10\",\"day11\",\"day12\",\"day13\",\"day14\",\"day15\",\"day16\",\"day17\",\"day18\",\"day19\",\"day20\",\"day21\",\"day22\",\"day23\",\"day24\",\"day25\",\"day26\",\"day27\",\"day28\",\"day29\",\"day30\",\"day31\"], index=df_X.index)\n",
    "    df_X = pd.concat([df_X, dfX4], axis=1)\n",
    "    del(df_X[u\"day\"])\n",
    "    \n",
    "    dfX5 = pd.DataFrame(OneHotEncoder().fit_transform(df_X[u\"weekday\"].as_matrix()[:,np.newaxis]).toarray(), \n",
    "                    columns=[\"sun\",\"mon\",\"tue\",\"wen\",\"thus\",\"fri\", \"sat\"], index=df_X.index)\n",
    "    df_X = pd.concat([df_X, dfX5], axis=1)\n",
    "    del(df_X[u\"weekday\"])\n",
    "    \n",
    "    from sklearn.cross_validation import train_test_split\n",
    "    X_train, X_test, y_train, y_test = train_test_split(df_X,df_y, test_size=0.15, random_state=20)\n",
    "    \n",
    "    X = X_train.values\n",
    "    y = y_train.values\n",
    "    testX = X_test\n",
    "    testy = y_test\n",
    "    \n",
    "    clf_logic = LogisticRegression(C=1, penalty='l2', class_weight = 'auto')\n",
    "    clf_rf = RandomForestClassifier(n_estimators=1, n_jobs=-1 ,class_weight='auto')\n",
    "   \n",
    "    \n",
    "    eclf = VotingClassifier(estimators=[('lr', clf_logic), ('rf', clf_rf)],\n",
    "                        voting='soft',\n",
    "                        weights=[10, 2])\n",
    "    eclf_model = eclf.fit(X, y)\n",
    "    return eclf_model\n",
    "    "
   ]
  },
  {
   "cell_type": "code",
   "execution_count": 14,
   "metadata": {
    "collapsed": false
   },
   "outputs": [
    {
     "name": "stderr",
     "output_type": "stream",
     "text": [
      "C:\\Users\\chibok\\Anaconda2\\lib\\site-packages\\sklearn\\preprocessing\\label.py:108: DataConversionWarning: A column-vector y was passed when a 1d array was expected. Please change the shape of y to (n_samples, ), for example using ravel().\n",
      "  y = column_or_1d(y, warn=True)\n",
      "C:\\Users\\chibok\\Anaconda2\\lib\\site-packages\\sklearn\\utils\\validation.py:515: DataConversionWarning: A column-vector y was passed when a 1d array was expected. Please change the shape of y to (n_samples, ), for example using ravel().\n",
      "  y = column_or_1d(y, warn=True)\n",
      "C:\\Users\\chibok\\Anaconda2\\lib\\site-packages\\sklearn\\ensemble\\voting_classifier.py:126: DataConversionWarning: A column-vector y was passed when a 1d array was expected. Please change the shape of y to (n_samples,), for example using ravel().\n",
      "  fitted_clf = clone(clf).fit(X, self.le_.transform(y))\n",
      "C:\\Users\\chibok\\Anaconda2\\lib\\site-packages\\sklearn\\svm\\base.py:514: DataConversionWarning: A column-vector y was passed when a 1d array was expected. Please change the shape of y to (n_samples, ), for example using ravel().\n",
      "  y_ = column_or_1d(y, warn=True)\n"
     ]
    }
   ],
   "source": [
    "eclf_model=training()"
   ]
  },
  {
   "cell_type": "markdown",
   "metadata": {},
   "source": [
    "# \"%\" 나오게 정의"
   ]
  },
  {
   "cell_type": "code",
   "execution_count": 11,
   "metadata": {
    "collapsed": true
   },
   "outputs": [],
   "source": [
    "def delay_rate(X = predictX):\n",
    "    pred = eclf_model.predict_proba(X)\n",
    "    print ('Your flight delay_rate is', float(pred[0][1]), '%')\n",
    "    return"
   ]
  },
  {
   "cell_type": "markdown",
   "metadata": {},
   "source": [
    "# 예측하기\n"
   ]
  },
  {
   "cell_type": "code",
   "execution_count": 19,
   "metadata": {
    "collapsed": false
   },
   "outputs": [
    {
     "name": "stdout",
     "output_type": "stream",
     "text": [
      "Your flight delay_rate is 0.508650930858 %\n"
     ]
    },
    {
     "name": "stderr",
     "output_type": "stream",
     "text": [
      "C:\\Users\\chibok\\Anaconda2\\lib\\site-packages\\sklearn\\utils\\validation.py:386: DeprecationWarning: Passing 1d arrays as data is deprecated in 0.17 and willraise ValueError in 0.19. Reshape your data either using X.reshape(-1, 1) if your data has a single feature or X.reshape(1, -1) if it contains a single sample.\n",
      "  DeprecationWarning)\n",
      "C:\\Users\\chibok\\Anaconda2\\lib\\site-packages\\sklearn\\utils\\validation.py:386: DeprecationWarning: Passing 1d arrays as data is deprecated in 0.17 and willraise ValueError in 0.19. Reshape your data either using X.reshape(-1, 1) if your data has a single feature or X.reshape(1, -1) if it contains a single sample.\n",
      "  DeprecationWarning)\n"
     ]
    }
   ],
   "source": [
    "delay_rate(predictX)"
   ]
  },
  {
   "cell_type": "code",
   "execution_count": 17,
   "metadata": {
    "collapsed": false
   },
   "outputs": [
    {
     "name": "stderr",
     "output_type": "stream",
     "text": [
      "C:\\Users\\chibok\\Anaconda2\\lib\\site-packages\\sklearn\\preprocessing\\label.py:108: DataConversionWarning: A column-vector y was passed when a 1d array was expected. Please change the shape of y to (n_samples, ), for example using ravel().\n",
      "  y = column_or_1d(y, warn=True)\n",
      "C:\\Users\\chibok\\Anaconda2\\lib\\site-packages\\sklearn\\utils\\validation.py:515: DataConversionWarning: A column-vector y was passed when a 1d array was expected. Please change the shape of y to (n_samples, ), for example using ravel().\n",
      "  y = column_or_1d(y, warn=True)\n",
      "C:\\Users\\chibok\\Anaconda2\\lib\\site-packages\\sklearn\\ensemble\\voting_classifier.py:126: DataConversionWarning: A column-vector y was passed when a 1d array was expected. Please change the shape of y to (n_samples,), for example using ravel().\n",
      "  fitted_clf = clone(clf).fit(X, self.le_.transform(y))\n"
     ]
    },
    {
     "name": "stdout",
     "output_type": "stream",
     "text": [
      "             precision    recall  f1-score   support\n",
      "\n",
      "          0       0.92      0.80      0.85      6092\n",
      "          1       0.36      0.61      0.45      1126\n",
      "\n",
      "avg / total       0.83      0.77      0.79      7218\n",
      "\n"
     ]
    }
   ],
   "source": [
    "    df_raw_data_def = pd.read_csv(\"df_data.csv\", encoding = 'cp949')\n",
    "    df_X = pd.DataFrame(df_raw_data_def, columns=[\"wind\", \"wind2\",\"dist\",\"temp\", \"rain\", \"the number of delay\", \"company\", \"month\", \"day\", \"hour\", \"weekday\"])\n",
    "    df_y = pd.DataFrame(df_raw_data_def, columns=[\"status\"])\n",
    "    df_X.loc[:,u\"company\"] = LabelEncoder().fit_transform(df_X[u\"company\"])\n",
    "    dfX2 = pd.DataFrame(OneHotEncoder().fit_transform(df_X[u\"company\"].as_matrix()[:,np.newaxis]).toarray(), \n",
    "                    columns=[\"koreanair\",\"asianair\",\"busanair\",\"estarair\",\"jejuair\",\"jinair\",\"taway\"], index=df_X.index)\n",
    "    df_X = pd.concat([df_X, dfX2], axis=1)\n",
    "    del(df_X[u\"company\"])\n",
    "    \n",
    "    df_X.loc[:,u\"month\"] = LabelEncoder().fit_transform(df_X[u\"month\"])\n",
    "    dfX6 = pd.DataFrame(OneHotEncoder().fit_transform(df_X[u\"month\"].as_matrix()[:,np.newaxis]).toarray(), \n",
    "                        columns=[1,2,3,4,5,6,7,8,9,10,11,12], index=df_X.index)\n",
    "    df_X = pd.concat([df_X, dfX6], axis=1)\n",
    "    del(df_X[u\"month\"])\n",
    "    \n",
    "    df_X.loc[:,\"hour\"] = LabelEncoder().fit_transform(df_X[\"hour\"])\n",
    "    dfX3 = pd.DataFrame(OneHotEncoder().fit_transform(df_X[\"hour\"].as_matrix()[:,np.newaxis]).toarray(), \n",
    "                    columns=[\"0H\", \"1H\",\"4H\", \"5H\", \"6H\", \"7H\", \"8H\", \"9H\", \"10H\", \"11H\", \"12H\", \"13H\", \"14H\", \"15H\", \"16H\", \"17H\", \"18H\", \"19H\", \"20H\", \"21H\", \"22H\", \"23H\"], index=df_X.index)\n",
    "    df_X = pd.concat([df_X, dfX3], axis=1)\n",
    "    del(df_X[\"hour\"])\n",
    "    \n",
    "    dfX4 = pd.DataFrame(OneHotEncoder().fit_transform(df_X[u\"day\"].as_matrix()[:,np.newaxis]).toarray(), \n",
    "                    columns=[\"day1\",\"day2\",\"day3\",\"day4\",\"day5\",\"day6\",\"day7\",\"day8\",\"day9\",\"day10\",\"day11\",\"day12\",\"day13\",\"day14\",\"day15\",\"day16\",\"day17\",\"day18\",\"day19\",\"day20\",\"day21\",\"day22\",\"day23\",\"day24\",\"day25\",\"day26\",\"day27\",\"day28\",\"day29\",\"day30\",\"day31\"], index=df_X.index)\n",
    "    df_X = pd.concat([df_X, dfX4], axis=1)\n",
    "    del(df_X[u\"day\"])\n",
    "    \n",
    "    dfX5 = pd.DataFrame(OneHotEncoder().fit_transform(df_X[u\"weekday\"].as_matrix()[:,np.newaxis]).toarray(), \n",
    "                    columns=[\"sun\",\"mon\",\"tue\",\"wen\",\"thus\",\"fri\", \"sat\"], index=df_X.index)\n",
    "    df_X = pd.concat([df_X, dfX5], axis=1)\n",
    "    del(df_X[u\"weekday\"])\n",
    "    \n",
    "    from sklearn.cross_validation import train_test_split\n",
    "    X_train, X_test, y_train, y_test = train_test_split(df_X,df_y, test_size=0.15, random_state=20)\n",
    "    \n",
    "    X = X_train.values\n",
    "    y = y_train.values\n",
    "    testX = X_test\n",
    "    testy = y_test\n",
    "    \n",
    "    clf_logic = LogisticRegression(C=1, penalty='l2', class_weight = 'auto')\n",
    "    clf_rf = RandomForestClassifier(n_estimators=1, n_jobs=-1 ,class_weight='auto')\n",
    "    clf_svc = SVC(kernel='rbf', C=100, gamma=0.001, class_weight ='auto')\n",
    "    \n",
    "    eclf = VotingClassifier(estimators=[('lr', clf_logic), ('rf', clf_rf)],\n",
    "                        voting='soft',\n",
    "                        weights=[10, 2])\n",
    "    eclf_model = eclf.fit(X, y)\n",
    "    eclf_pred = eclf_model.predict(testX)\n",
    "    from sklearn import metrics\n",
    "    print(metrics.classification_report(testy, eclf_pred))"
   ]
  },
  {
   "cell_type": "code",
   "execution_count": 18,
   "metadata": {
    "collapsed": false
   },
   "outputs": [
    {
     "name": "stderr",
     "output_type": "stream",
     "text": [
      "C:\\Users\\chibok\\Anaconda2\\lib\\site-packages\\sklearn\\utils\\validation.py:386: DeprecationWarning: Passing 1d arrays as data is deprecated in 0.17 and willraise ValueError in 0.19. Reshape your data either using X.reshape(-1, 1) if your data has a single feature or X.reshape(1, -1) if it contains a single sample.\n",
      "  DeprecationWarning)\n",
      "C:\\Users\\chibok\\Anaconda2\\lib\\site-packages\\sklearn\\utils\\validation.py:386: DeprecationWarning: Passing 1d arrays as data is deprecated in 0.17 and willraise ValueError in 0.19. Reshape your data either using X.reshape(-1, 1) if your data has a single feature or X.reshape(1, -1) if it contains a single sample.\n",
      "  DeprecationWarning)\n"
     ]
    },
    {
     "data": {
      "text/plain": [
       "array([[ 0.49134907,  0.50865093]])"
      ]
     },
     "execution_count": 18,
     "metadata": {},
     "output_type": "execute_result"
    }
   ],
   "source": [
    "pred = eclf_model.predict_proba(predictX)\n",
    "pred"
   ]
  }
 ],
 "metadata": {
  "kernelspec": {
   "display_name": "Python 2",
   "language": "python",
   "name": "python2"
  }
 },
 "nbformat": 4,
 "nbformat_minor": 0
}
